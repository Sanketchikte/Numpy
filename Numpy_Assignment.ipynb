{
  "nbformat": 4,
  "nbformat_minor": 0,
  "metadata": {
    "colab": {
      "provenance": []
    },
    "kernelspec": {
      "name": "python3",
      "display_name": "Python 3"
    },
    "language_info": {
      "name": "python"
    }
  },
  "cells": [
    {
      "cell_type": "markdown",
      "source": [
        "**Theoretocal Questions:**"
      ],
      "metadata": {
        "id": "SDeutSy0zHrz"
      }
    },
    {
      "cell_type": "markdown",
      "source": [
        "**1. Explain the purpose and advantages of NumPy in scientific computing and data analysis. How does it\n",
        "enhance Python's capabilities for numerical operations?**\n",
        "\n",
        "**Ans.**\n",
        "\n",
        "**Purposes:**\n",
        "\n",
        "**1. Efficient Numerical Computations:** NumPy provides highly efficient and optimized operations for numerical computations, essential for scientific computing.\n",
        "\n",
        "**2. Array Manipulation:** It introduces the powerful N-dimensional array object, which allows for efficient storage and manipulation of large datasets.\n",
        "\n",
        "**3. Mathematical Functions:** NumPy includes a comprehensive set of mathematical functions for operations like linear algebra, Fourier transform, and random number generation.\n",
        "\n",
        "\n",
        "**Advantages:**\n",
        "\n",
        "**1. Performance:** NumPy's array operations are significantly faster than Python's built-in lists, due to its optimized C and Fortran implementations.\n",
        "\n",
        "**2. Memory Efficiency:** Arrays in NumPy are more memory-efficient compared to lists, as they store elements of the same data type.\n",
        "\n",
        "**3. Broad Functionality:** The library includes a wide range of functions for statistical, algebraic, and mathematical operations.\n",
        "\n",
        "**4. Integration:** NumPy seamlessly integrates with other scientific computing libraries like SciPy, Matplotlib, and pandas.\n",
        "\n",
        "**5. Ease of Use:** Its syntax and functions are designed to be intuitive and easy to use, making it accessible for beginners and powerful for experts.\n",
        "\n",
        "**6. Community and Support:** NumPy is widely used in both academia and industry, with extensive documentation and a large, active user community.\n",
        "\n",
        "\n",
        "**Enhancements to Python:**\n",
        "\n",
        "**1. Vectorization:** NumPy allows for vectorized operations, which means you can perform element-wise operations on arrays without writing explicit loops. This not only makes the code more concise but also enhances performance.\n",
        "\n",
        "**2. Broadcasting:** It supports broadcasting, a mechanism that allows arrays of different shapes to be used in arithmetic operations without the need to reshape them manually.\n",
        "\n",
        "**3. Interoperability:** NumPy arrays can be used in conjunction with other libraries like TensorFlow for machine learning, making it a cornerstone of the Python scientific stack."
      ],
      "metadata": {
        "id": "XdIYZ7z6zcTk"
      }
    },
    {
      "cell_type": "markdown",
      "source": [
        "**2. Compare and contrast np.mean() and np.average() functions in NumPy. When would you use one over the\n",
        "other?**\n",
        "\n",
        "**Ans.**\n",
        "\n",
        "**np.mean():**\n",
        "\n",
        "**Purpose:** Computes the arithmetic mean (average) of array elements along a specified axis.\n",
        "\n",
        "**Syntax:** np.mean(a, axis=None, dtype=None, out=None, keepdims=<no value>)\n",
        "\n",
        "**Parameters:**\n",
        "\n",
        "**a:** Array-like object containing the numbers.\n",
        "\n",
        "**axis:** Axis or axes along which the means are computed. By default, the mean is computed of the flattened array.\n",
        "\n",
        "**dtype:** Data type of the result.\n",
        "\n",
        "**out:** Alternative output array to place the result.\n",
        "\n",
        "**keepdims:** If True, the reduced axes are left in the result as dimensions with size one.\n",
        "\n",
        "**`Weighted Average:** Does not support weighted averages. It only computes the simple arithmetic mean.\n",
        "\n",
        "**np.average():**\n",
        "\n",
        "**Purpose:** Computes the weighted average of array elements along a specified axis.\n",
        "\n",
        "**Syntax:** np.average(a, axis=None, weights=None, returned=False)\n",
        "\n",
        "**Parameters:**\n",
        "\n",
        "**a:** Array-like object containing the numbers.\n",
        "\n",
        "**axis:** Axis or axes along which the averages are computed. By default, the average is computed of the flattened array.\n",
        "\n",
        "**weights:** An array of weights associated with the values in a. The weights array can either be 1-D or of the same shape as a.\n",
        "\n",
        "**returned:** If True, returns a tuple containing the average and the sum of the weights.\n",
        "\n",
        "**Weighted Average:** Supports weighted\n",
        "averages. If weights are provided, it computes the weighted average; if weights are None, it acts like np.mean().\n",
        "\n",
        "**When to Use One Over the Other**\n",
        "\n",
        "\n",
        "\n",
        "*   **Use** np.mean():\n",
        "\n",
        "\n",
        "1.   When you need to compute the simple arithmetic mean of elements without any weighting.\n",
        "2.   When you want a straightforward and simple way to calculate the average.\n",
        "\n",
        "\n",
        "3.  Examples: General statistics, calculating the mean temperature of a dataset, etc\n",
        "\n",
        "\n",
        "\n",
        "\n",
        "*   **Use** np.average():\n",
        "\n",
        "\n",
        "\n",
        "1.  When you need to compute a weighted average, where different elements have different levels of importance or frequency.\n",
        "2.   When you want a straightforward and simple way to calculate the average.\n",
        "\n",
        "\n",
        "3.   Examples: Calculating the average score of a student where different subjects have different credits, finding the average of a dataset with varying significance of values, etc.\n",
        "\n"
      ],
      "metadata": {
        "id": "ehX5-TWI1VJH"
      }
    },
    {
      "cell_type": "markdown",
      "source": [
        "**3.  Describe the methods for reversing a NumPy array along different axes. Provide examples for 1D and 2D\n",
        "arrays.**\n",
        "\n",
        "**Ans.**\n",
        "\n",
        "Reversing a NumPy array along different axes can be done efficiently using slicing and the np.flip() function."
      ],
      "metadata": {
        "id": "s_hG3gnT6JNN"
      }
    },
    {
      "cell_type": "code",
      "execution_count": null,
      "metadata": {
        "colab": {
          "base_uri": "https://localhost:8080/"
        },
        "id": "huNpQYCqyoU_",
        "outputId": "2a420ce0-1a64-488e-c16e-0dd88cac2c35"
      },
      "outputs": [
        {
          "output_type": "stream",
          "name": "stdout",
          "text": [
            "Original 1D Array: [1 2 3 4 5]\n",
            "Reversed 1D Array: [5 4 3 2 1]\n"
          ]
        }
      ],
      "source": [
        "#1D Array\n",
        "#Using slicing\n",
        "\n",
        "import numpy as np\n",
        "\n",
        "array_1d = np.array([1, 2, 3, 4, 5])\n",
        "reversed_array_1d = array_1d[::-1]\n",
        "\n",
        "print(\"Original 1D Array:\", array_1d)\n",
        "print(\"Reversed 1D Array:\", reversed_array_1d)\n"
      ]
    },
    {
      "cell_type": "code",
      "source": [
        "#Using np.flip()\n",
        "\n",
        "reversed_array_1d_flip = np.flip(array_1d)\n",
        "\n",
        "print(\"Reversed 1D Array using np.flip():\", reversed_array_1d_flip)\n"
      ],
      "metadata": {
        "colab": {
          "base_uri": "https://localhost:8080/"
        },
        "id": "1gFogHMX7aQI",
        "outputId": "dd405b53-b1b1-4e79-eaa9-67a05d140091"
      },
      "execution_count": null,
      "outputs": [
        {
          "output_type": "stream",
          "name": "stdout",
          "text": [
            "Reversed 1D Array using np.flip(): [5 4 3 2 1]\n"
          ]
        }
      ]
    },
    {
      "cell_type": "code",
      "source": [
        "#2D Array\n",
        "#Reversing Along Rows (Axis 0)\n",
        "\n",
        "array_2d = np.array([[1, 2, 3], [4, 5, 6], [7, 8, 9]])\n",
        "reversed_rows = array_2d[::-1, :]\n",
        "\n",
        "print(\"Original 2D Array:\\n\", array_2d)\n",
        "print(\"Reversed Rows (Axis 0):\\n\", reversed_rows)\n"
      ],
      "metadata": {
        "colab": {
          "base_uri": "https://localhost:8080/"
        },
        "id": "1F1TdYUs7mlb",
        "outputId": "af3909e0-b709-4438-8c57-36c24d136170"
      },
      "execution_count": null,
      "outputs": [
        {
          "output_type": "stream",
          "name": "stdout",
          "text": [
            "Original 2D Array:\n",
            " [[1 2 3]\n",
            " [4 5 6]\n",
            " [7 8 9]]\n",
            "Reversed Rows (Axis 0):\n",
            " [[7 8 9]\n",
            " [4 5 6]\n",
            " [1 2 3]]\n"
          ]
        }
      ]
    },
    {
      "cell_type": "code",
      "source": [
        "#Reversing Along Columns (Axis 1)\n",
        "\n",
        "reversed_columns = array_2d[:, ::-1]\n",
        "\n",
        "print(\"Reversed Columns (Axis 1):\\n\", reversed_columns)\n"
      ],
      "metadata": {
        "colab": {
          "base_uri": "https://localhost:8080/"
        },
        "id": "9BfjWD5674b6",
        "outputId": "c776044e-96ce-4999-cdcf-22e2dca2b1e3"
      },
      "execution_count": null,
      "outputs": [
        {
          "output_type": "stream",
          "name": "stdout",
          "text": [
            "Reversed Columns (Axis 1):\n",
            " [[3 2 1]\n",
            " [6 5 4]\n",
            " [9 8 7]]\n"
          ]
        }
      ]
    },
    {
      "cell_type": "code",
      "source": [
        "#Reversing Along Both Axes\n",
        "\n",
        "reversed_both_axes = array_2d[::-1, ::-1]\n",
        "\n",
        "print(\"Reversed Both Axes:\\n\", reversed_both_axes)\n"
      ],
      "metadata": {
        "colab": {
          "base_uri": "https://localhost:8080/"
        },
        "id": "P2WroIX_8BkN",
        "outputId": "1399ddb5-00a8-4709-eb88-c0eaf7a02927"
      },
      "execution_count": null,
      "outputs": [
        {
          "output_type": "stream",
          "name": "stdout",
          "text": [
            "Reversed Both Axes:\n",
            " [[9 8 7]\n",
            " [6 5 4]\n",
            " [3 2 1]]\n"
          ]
        }
      ]
    },
    {
      "cell_type": "code",
      "source": [
        "#Using np.flip() Along a Specific Axis\n",
        "\n",
        "reversed_rows_flip = np.flip(array_2d, axis=0)\n",
        "reversed_columns_flip = np.flip(array_2d, axis=1)\n",
        "\n",
        "print(\"Reversed Rows using np.flip() (Axis 0):\\n\", reversed_rows_flip)\n",
        "print(\"Reversed Columns using np.flip() (Axis 1):\\n\", reversed_columns_flip)\n"
      ],
      "metadata": {
        "colab": {
          "base_uri": "https://localhost:8080/"
        },
        "id": "m-UEIrEE8MEm",
        "outputId": "ebc5cbfc-0034-47c5-bcd6-807e063c92d0"
      },
      "execution_count": null,
      "outputs": [
        {
          "output_type": "stream",
          "name": "stdout",
          "text": [
            "Reversed Rows using np.flip() (Axis 0):\n",
            " [[7 8 9]\n",
            " [4 5 6]\n",
            " [1 2 3]]\n",
            "Reversed Columns using np.flip() (Axis 1):\n",
            " [[3 2 1]\n",
            " [6 5 4]\n",
            " [9 8 7]]\n"
          ]
        }
      ]
    },
    {
      "cell_type": "markdown",
      "source": [
        "**4.How can you determine the data type of elements in a NumPy array? Discuss the importance of data types\n",
        "in memory management and performance.**\n",
        "\n",
        "**Ans.**\n",
        "\n",
        "\n",
        "\n",
        "1.  **Memory Management:**\n",
        "\n",
        "**Size:** Different data types occupy different amounts of memory. For example, int32 occupies 4 bytes per element, while int64 occupies 8 bytes. Using the appropriate data type can significantly reduce memory usage.\n",
        "\n",
        "**Precision:** Choosing data types that match the precision requirements of your application ensures efficient memory usage without compromising accuracy. For instance, if you only need to store values between 0 and 255, using an uint8 (1 byte) is more efficient than using a float64 (8 bytes).\n",
        "\n",
        "2.   **Performance:**\n",
        "\n",
        "**Speed:** Operations on smaller data types are generally faster because they require less memory to be accessed and processed. For instance, computations with int32 are often faster than with int64.\n",
        "\n",
        "**Vectorization:** NumPy leverages low-level optimizations and vectorized operations that work directly on arrays. Using the right data types ensures that these optimizations are applied effectively, leading to faster computations.\n",
        "\n"
      ],
      "metadata": {
        "id": "GfowrVmq8XaB"
      }
    },
    {
      "cell_type": "markdown",
      "source": [
        "**5. Define ndarrays in NumPy and explain their key features. How do they differ from standard Python lists?**\n",
        "\n",
        "**Ans.**\n",
        "\n",
        "In NumPy, an ndarray is the primary data structure for storing large, multi-dimensional homogeneous data. It is a powerful object that provides a way to perform numerical operations on large datasets with high efficiency.\n",
        "\n",
        "**Key Features of ndarray**\n",
        "\n",
        "\n",
        "\n",
        "1.   **N-dimensional:** As the name suggests, ndarray can handle data of arbitrary dimensions, from 1D arrays to n-dimensional arrays (e.g., 2D for matrices, 3D for tensors).\n",
        "\n",
        "2.  **Homogeneous:** All elements in an ndarray are of the same data type. This makes operations on the array more efficient as the underlying data storage is optimized for a single type.\n",
        "\n",
        "3.   **Shape and Size:** The shape attribute provides the dimensions of the array (e.g., rows and columns for a 2D array). The size attribute gives the total number of elements in the array.\n",
        "4.   **Efficient Operations:** NumPy provides a suite of functions optimized for fast numerical operations on arrays, including arithmetic operations, statistical operations, and more.\n",
        "\n",
        "\n",
        "5.   **Slicing and Indexing:** ndarray supports advanced slicing and indexing techniques for accessing and modifying parts of the array efficiently\n",
        "\n",
        "\n",
        "6.  **Broadcasting:** NumPy allows arithmetic operations to be performed on arrays of different shapes, automatically expanding one array to match the shape of the other (if possible).\n",
        "\n",
        "**Differences Between ndarray and Python Lists**\n",
        "\n",
        "1.   **Performance:**\n",
        "\n",
        "**NumPy ndarray:** Optimized for numerical operations with a significant performance boost due to low-level optimizations (e.g., vectorized operations).\n",
        "\n",
        "**Python Lists:** General-purpose data structures not optimized for numerical operations, leading to slower performance for large datasets.\n",
        "\n",
        "2.   **Memory Efficiency:**\n",
        "\n",
        "**NumPy ndarray:** Stores elements in contiguous blocks of memory, leading to more efficient storage and better cache performance.\n",
        "\n",
        "**Python Lists:** Store elements as references to objects, leading to additional overhead and less efficient memory usage.\n",
        "\n",
        "\n",
        "3.   **Homogeneity:**\n",
        "\n",
        "**NumPy ndarray:** Elements must be of the same data type, which allows for optimized operations.\n",
        "\n",
        "**Python Lists:** Can store elements of different data types, offering more flexibility but less efficiency for numerical computations.\n",
        "4.   **Advanced Operations:**\n",
        "\n",
        "**NumPy ndarray:** Supports a wide range of mathematical and statistical operations, including linear algebra, Fourier transforms, and random number generation.\n",
        "\n",
        "**Python Lists:** Limited in terms of built-in numerical operations and require manual implementation or external libraries for advanced tasks."
      ],
      "metadata": {
        "id": "xhHuFDJR-344"
      }
    },
    {
      "cell_type": "markdown",
      "source": [
        "**6. Analyze the performance benefits of NumPy arrays over Python lists for large-scale numerical operations.**\n",
        "\n",
        "**Ans.**\n",
        "\n",
        "\n",
        "1.   **Speed**\n",
        "\n",
        "\n",
        "\n",
        "*   **Vectorization:** NumPy utilizes highly optimized C and Fortran libraries, allowing for vectorized operations. This means operations can be performed element-wise on entire arrays simultaneously, rather than looping through elements.\n",
        "*   **Less Overhead:** NumPy arrays are more compact and use contiguous blocks of memory, reducing the overhead that comes with the dynamic typing and memory allocation of Python lists.\n",
        "\n",
        "\n",
        "2.   **Memory Efficiency:**\n",
        "\n",
        "\n",
        "\n",
        "*   **Fixed Data Types:** NumPy arrays store elements of the same data type, leading to more efficient memory usage compared to Python lists that can hold elements of different data types.\n",
        "*   **Compact Storage:** NumPy arrays use less memory for storing data as they require a contiguous block of memory, whereas Python lists may need additional memory for pointers.\n",
        "\n",
        "\n",
        "\n",
        "3.  ** Functionality:**\n",
        "\n",
        "\n",
        "\n",
        "1.   **Broad Set of Functions:** NumPy provides a comprehensive set of functions and methods for numerical operations, matrix manipulations, and linear algebra that are not available with standard Python lists.\n",
        "2.   **Convenience:** Operations like matrix multiplication, element-wise operations, and broadcasting are more straightforward and concise with NumPy arrays.\n",
        "\n",
        "\n",
        "4.   **Interoperability:**\n",
        "\n",
        "\n",
        "\n",
        "1.   **Integration with Libraries:** NumPy arrays are the foundation of many other scientific and data analysis libraries in Python, such as Pandas, SciPy, and scikit-learn. This makes data exchange and processing more efficient and consistent.\n",
        "\n",
        "\n",
        "\n",
        "\n",
        "\n",
        "\n",
        "5.   **Parallelism and Optimization:**\n",
        "\n",
        "\n",
        "\n",
        "1.   **Parallel Execution:** NumPy can leverage multiple CPU cores for parallel execution, making it more efficient for large-scale computations.\n",
        "2.  **Optimization Techniques:** NumPy employs various optimization techniques like in-place operations to further improve performance.\n",
        "\n",
        "\n",
        "\n",
        "\n"
      ],
      "metadata": {
        "id": "YmdgffEWkZbw"
      }
    },
    {
      "cell_type": "markdown",
      "source": [
        "**7. Compare vstack() and hstack() functions in NumPy. Provide examples demonstrating their usage and\n",
        "output.**\n",
        "\n",
        "**Ans.**\n",
        "\n",
        "\n",
        "*  **vstack() Function**\n",
        "\n",
        "The vstack() function stacks arrays vertically (row-wise). It combines arrays along the vertical axis to form a larger array.\n",
        "*   **hstack() Function**\n",
        "\n",
        "\n",
        "The hstack() function stacks arrays horizontally (column-wise). It combines arrays along the horizontal axis to form a larger array.\n",
        "\n",
        "\n",
        "\n",
        "*   Comparison Summary:\n",
        "\n",
        "\n",
        "*   **vstack():** Stacks arrays vertically (row-wise), increasing the number of rows.\n",
        "*   **hstack():** Stacks arrays horizontally (column-wise), increasing the number of columns.\n",
        "\n",
        "\n",
        "\n",
        "\n",
        "\n"
      ],
      "metadata": {
        "id": "_dkXn0ukpbQT"
      }
    },
    {
      "cell_type": "code",
      "source": [
        "#vstack() Function\n",
        "\n",
        "import numpy as np\n",
        "\n",
        "# Creating two arrays\n",
        "array1 = np.array([[1, 2, 3], [4, 5, 6]])\n",
        "array2 = np.array([[7, 8, 9], [10, 11, 12]])\n",
        "\n",
        "# Using vstack() to stack arrays vertically\n",
        "result_vstack = np.vstack((array1, array2))\n",
        "\n",
        "print(\"Array 1:\")\n",
        "print(array1)\n",
        "print(\"\\nArray 2:\")\n",
        "print(array2)\n",
        "print(\"\\nVertically Stacked Array:\")\n",
        "print(result_vstack)\n"
      ],
      "metadata": {
        "id": "Q6f4ptIo8WIS",
        "colab": {
          "base_uri": "https://localhost:8080/"
        },
        "outputId": "6771e61a-a014-4b8a-8d7d-75d3b7003903"
      },
      "execution_count": 1,
      "outputs": [
        {
          "output_type": "stream",
          "name": "stdout",
          "text": [
            "Array 1:\n",
            "[[1 2 3]\n",
            " [4 5 6]]\n",
            "\n",
            "Array 2:\n",
            "[[ 7  8  9]\n",
            " [10 11 12]]\n",
            "\n",
            "Vertically Stacked Array:\n",
            "[[ 1  2  3]\n",
            " [ 4  5  6]\n",
            " [ 7  8  9]\n",
            " [10 11 12]]\n"
          ]
        }
      ]
    },
    {
      "cell_type": "code",
      "source": [
        "#hstack() Function\n",
        "\n",
        "import numpy as np\n",
        "\n",
        "# Creating two arrays\n",
        "array1 = np.array([[1, 2, 3], [4, 5, 6]])\n",
        "array2 = np.array([[7, 8, 9], [10, 11, 12]])\n",
        "\n",
        "# Using hstack() to stack arrays horizontally\n",
        "result_hstack = np.hstack((array1, array2))\n",
        "\n",
        "print(\"Array 1:\")\n",
        "print(array1)\n",
        "print(\"\\nArray 2:\")\n",
        "print(array2)\n",
        "print(\"\\nHorizontally Stacked Array:\")\n",
        "print(result_hstack)\n"
      ],
      "metadata": {
        "colab": {
          "base_uri": "https://localhost:8080/"
        },
        "id": "YVhCvM0JsAzC",
        "outputId": "b7f31809-70d2-492a-ac82-1025c89cb269"
      },
      "execution_count": 2,
      "outputs": [
        {
          "output_type": "stream",
          "name": "stdout",
          "text": [
            "Array 1:\n",
            "[[1 2 3]\n",
            " [4 5 6]]\n",
            "\n",
            "Array 2:\n",
            "[[ 7  8  9]\n",
            " [10 11 12]]\n",
            "\n",
            "Horizontally Stacked Array:\n",
            "[[ 1  2  3  7  8  9]\n",
            " [ 4  5  6 10 11 12]]\n"
          ]
        }
      ]
    },
    {
      "cell_type": "markdown",
      "source": [
        "**8. Explain the differences between fliplr() and flipud() methods in NumPy, including their effects on various\n",
        "array dimensions.**\n",
        "\n",
        "**Ans.**\n",
        "\n",
        "\n",
        "*   **fliplr() Method**\n",
        "\n",
        "The fliplr() method flips an array left to right (horizontally). It reverses the order of columns, leaving the rows unchanged.\n",
        "*   **flipud() Method**\n",
        "\n",
        "The flipud() method flips an array upside down (vertically). It reverses the order of rows, leaving the columns unchanged.\n",
        "\n",
        "\n",
        "\n",
        "*   **Differences and Effects on Array Dimensions**\n",
        "\n",
        "\n",
        "\n",
        "1.   **fliplr()**\n",
        "\n",
        "**Effect:** Reverses the order of columns.\n",
        "\n",
        "**Usage:** Primarily used for flipping arrays horizontally.\n",
        "\n",
        "**Array Dimension:** Works on 2D arrays and higher-dimensional arrays where the operation is applied to the last dimension.\n",
        "\n",
        "\n",
        "2.   **flipud()**\n",
        "\n",
        "\n",
        "**Effect:** Reverses the order of rows.\n",
        "\n",
        "**Usage:** Primarily used for flipping arrays vertically.\n",
        "\n",
        "**Array Dimension:** Works on 2D arrays and higher-dimensional arrays where the operation is applied to the first dimension.\n",
        "\n",
        "\n",
        "\n"
      ],
      "metadata": {
        "id": "8dnSr8jvsLs_"
      }
    },
    {
      "cell_type": "markdown",
      "source": [
        "**9. Discuss the functionality of the array_split() method in NumPy. How does it handle uneven splits?**\n",
        "\n",
        "**Ans.**\n",
        "\n",
        "The array_split() method in NumPy is a versatile function used to split an array into multiple sub-arrays. It is especially handy when you need to divide an array into uneven sections, unlike split(), which requires evenly divisible sections.\n",
        "\n",
        "*   **Functionality of array_split()**\n",
        "\n",
        "**Usage:** numpy.array_split(ary, indices_or_sections, axis=0)\n",
        "\n",
        "**Parameters:**\n",
        "\n",
        "**ary:** The input array to be split.\n",
        "\n",
        "**indices_or_sections:** Either an integer indicating the number of equal divisions or a list of indices at which to split the array.\n",
        "\n",
        "**axis:** The axis along which to split the array. By default, it splits along axis 0 (rows).\n",
        "*  **Handling Uneven Splits**\n",
        "\n",
        "When the array cannot be split into equal-sized sub-arrays, array_split() ensures that the sub-arrays are as close in size as possible. This means that some sub-arrays may be larger than others, but the difference will be minimal."
      ],
      "metadata": {
        "id": "u6RJA36Et2YY"
      }
    },
    {
      "cell_type": "markdown",
      "source": [
        "**10. Explain the concepts of vectorization and broadcasting in NumPy. How do they contribute to efficient array\n",
        "operations?**\n",
        "\n",
        "**Ans.**\n",
        "\n",
        "**Vectorization**\n",
        "\n",
        "Vectorization refers to the process of applying operations to entire arrays or large blocks of data in a single step, rather than iterating through individual elements. This leverages low-level optimizations and highly efficient C and Fortran libraries, making operations much faster and more concise.\n",
        "\n",
        "**Benefits:**\n",
        "\n",
        "\n",
        "\n",
        "*   **Speed:** Vectorized operations are often orders of magnitude faster than their non-vectorized counterparts, thanks to underlying optimized implementations.\n",
        "*   **Readability:** Code becomes cleaner and easier to understand, reducing the need for explicit loops.\n",
        "\n",
        "**Broadcasting**\n",
        "\n",
        "Broadcasting is a mechanism that allows NumPy to perform operations on arrays of different shapes. When performing operations, NumPy automatically expands the smaller array to match the dimensions of the larger array, without making extra copies of data.\n",
        "\n",
        "**Rules:**\n",
        "\n",
        "\n",
        "\n",
        "1.   If the arrays differ in their number of dimensions, the shape of the smaller array is padded with ones on its left side.\n",
        "2.   If the shape of the arrays differ in a dimension, the array with shape equal to 1 in that dimension is stretched to match the other shape.\n",
        "\n",
        "\n",
        "\n",
        "3.  If the shapes of the arrays do not match and the difference is not equal to 1, a ValueError is raised.\n",
        "\n",
        "\n",
        "**How They Contribute to Efficient Array Operations:**\n",
        "\n",
        "\n",
        "\n",
        "*   **Performance:** Both vectorization and broadcasting eliminate the need for explicit loops, enabling efficient execution of operations using low-level optimizations.\n",
        "*   **Memory Efficiency:** Broadcasting avoids unnecessary data replication, saving memory and improving performance.\n",
        "\n",
        "\n",
        "\n",
        "\n",
        "*   **Simplified Code:** They make code more concise and readable, reducing the chance of errors and improving maintainability.\n",
        "\n",
        "\n",
        "\n"
      ],
      "metadata": {
        "id": "nVCdHa7rvhy1"
      }
    },
    {
      "cell_type": "markdown",
      "source": [
        "**Practical Questions:**"
      ],
      "metadata": {
        "id": "jz-Gg5HMxdG3"
      }
    },
    {
      "cell_type": "markdown",
      "source": [
        "**Create a 3x3 NumPy array with random integers between 1 and 100. Then, interchange its rows and columns.**\n",
        "\n",
        "**Ans.**\n",
        "\n"
      ],
      "metadata": {
        "id": "2FZGNighx_OQ"
      }
    },
    {
      "cell_type": "code",
      "source": [
        "import numpy as np\n",
        "\n",
        "# Creating a 3x3 array with random integers between 1 and 100\n",
        "array = np.random.randint(1, 101, size=(3, 3))\n",
        "\n",
        "print(\"Original Array:\")\n",
        "print(array)\n",
        "\n",
        "# Transposing the array\n",
        "transposed_array = np.transpose(array)\n",
        "\n",
        "print(\"\\nTransposed Array:\")\n",
        "print(transposed_array)\n"
      ],
      "metadata": {
        "colab": {
          "base_uri": "https://localhost:8080/"
        },
        "id": "zk6v-AWqsJy-",
        "outputId": "7e900792-aced-4fe6-a273-45007870d3d2"
      },
      "execution_count": 3,
      "outputs": [
        {
          "output_type": "stream",
          "name": "stdout",
          "text": [
            "Original Array:\n",
            "[[27 50 91]\n",
            " [68 69 10]\n",
            " [58 56 89]]\n",
            "\n",
            "Transposed Array:\n",
            "[[27 68 58]\n",
            " [50 69 56]\n",
            " [91 10 89]]\n"
          ]
        }
      ]
    },
    {
      "cell_type": "markdown",
      "source": [
        "**2.Generate a 1D NumPy array with 10 elements. Reshape it into a 2x5 array, then into a 5x2 array.**\n",
        "\n",
        "**Ans.**\n",
        "\n"
      ],
      "metadata": {
        "id": "2Bj0IGG7yfEx"
      }
    },
    {
      "cell_type": "code",
      "source": [
        "import numpy as np\n",
        "\n",
        "# Generating a 1D array with 10 elements\n",
        "array_1d = np.arange(10)\n",
        "\n",
        "print(\"Original 1D Array:\")\n",
        "print(array_1d)\n",
        "\n",
        "# Reshaping the 1D array into a 2x5 array\n",
        "array_2x5 = array_1d.reshape(2, 5)\n",
        "\n",
        "print(\"\\nReshaped 2x5 Array:\")\n",
        "print(array_2x5)\n",
        "\n",
        "# Reshaping the 2x5 array into a 5x2 array\n",
        "array_5x2 = array_2x5.reshape(5, 2)\n",
        "\n",
        "print(\"\\nReshaped 5x2 Array:\")\n",
        "print(array_5x2)\n"
      ],
      "metadata": {
        "colab": {
          "base_uri": "https://localhost:8080/"
        },
        "id": "tfl2axkeycqf",
        "outputId": "08c1223d-280a-4a8a-ccd9-af9b26db0967"
      },
      "execution_count": 4,
      "outputs": [
        {
          "output_type": "stream",
          "name": "stdout",
          "text": [
            "Original 1D Array:\n",
            "[0 1 2 3 4 5 6 7 8 9]\n",
            "\n",
            "Reshaped 2x5 Array:\n",
            "[[0 1 2 3 4]\n",
            " [5 6 7 8 9]]\n",
            "\n",
            "Reshaped 5x2 Array:\n",
            "[[0 1]\n",
            " [2 3]\n",
            " [4 5]\n",
            " [6 7]\n",
            " [8 9]]\n"
          ]
        }
      ]
    },
    {
      "cell_type": "markdown",
      "source": [
        "**3.  Create a 4x4 NumPy array with random float values. Add a border of zeros around it, resulting in a 6x6 array.**\n",
        "\n",
        "**Ans.**\n",
        "\n"
      ],
      "metadata": {
        "id": "EM6ts_OPzS4_"
      }
    },
    {
      "cell_type": "code",
      "source": [
        "import numpy as np\n",
        "\n",
        "# Creating a 4x4 array with random float values\n",
        "array_4x4 = np.random.rand(4, 4)\n",
        "\n",
        "print(\"Original 4x4 Array:\")\n",
        "print(array_4x4)\n",
        "\n",
        "# Adding a border of zeros around the 4x4 array to form a 6x6 array\n",
        "array_6x6 = np.pad(array_4x4, pad_width=1, mode='constant', constant_values=0)\n",
        "\n",
        "print(\"\\nArray with Border of Zeros (6x6):\")\n",
        "print(array_6x6)\n"
      ],
      "metadata": {
        "colab": {
          "base_uri": "https://localhost:8080/"
        },
        "id": "fNFiJGWGzNQQ",
        "outputId": "935a3a9f-ab4d-467c-ff8b-471f449ca523"
      },
      "execution_count": 5,
      "outputs": [
        {
          "output_type": "stream",
          "name": "stdout",
          "text": [
            "Original 4x4 Array:\n",
            "[[0.2488513  0.76871126 0.18409629 0.75058261]\n",
            " [0.53590244 0.06462922 0.96132484 0.27787845]\n",
            " [0.98533835 0.78479158 0.17687794 0.81632367]\n",
            " [0.96732651 0.0785411  0.26066779 0.55014245]]\n",
            "\n",
            "Array with Border of Zeros (6x6):\n",
            "[[0.         0.         0.         0.         0.         0.        ]\n",
            " [0.         0.2488513  0.76871126 0.18409629 0.75058261 0.        ]\n",
            " [0.         0.53590244 0.06462922 0.96132484 0.27787845 0.        ]\n",
            " [0.         0.98533835 0.78479158 0.17687794 0.81632367 0.        ]\n",
            " [0.         0.96732651 0.0785411  0.26066779 0.55014245 0.        ]\n",
            " [0.         0.         0.         0.         0.         0.        ]]\n"
          ]
        }
      ]
    },
    {
      "cell_type": "markdown",
      "source": [
        "**4.  Using NumPy, create an array of integers from 10 to 60 with a step of 5.**\n",
        "\n",
        "**Ans.**\n",
        "\n",
        "\n"
      ],
      "metadata": {
        "id": "IvOgMaVAz3n1"
      }
    },
    {
      "cell_type": "code",
      "source": [
        "import numpy as np\n",
        "\n",
        "# Creating an array of integers from 10 to 60 with a step of 5\n",
        "array = np.arange(10, 61, 5)\n",
        "\n",
        "print(\"Array from 10 to 60 with a step of 5:\")\n",
        "print(array)\n"
      ],
      "metadata": {
        "colab": {
          "base_uri": "https://localhost:8080/"
        },
        "id": "TsIjN4Rezu9U",
        "outputId": "fed1b989-9e8d-4555-e78c-5b81db13a2a9"
      },
      "execution_count": 6,
      "outputs": [
        {
          "output_type": "stream",
          "name": "stdout",
          "text": [
            "Array from 10 to 60 with a step of 5:\n",
            "[10 15 20 25 30 35 40 45 50 55 60]\n"
          ]
        }
      ]
    },
    {
      "cell_type": "markdown",
      "source": [
        "**5. Create a NumPy array of strings ['python', 'numpy', 'pandas']. Apply different case transformations\n",
        "(uppercase, lowercase, title case, etc.) to each element.**\n",
        "\n",
        "**Ans.**\n",
        "\n"
      ],
      "metadata": {
        "id": "wR94GAk20tQd"
      }
    },
    {
      "cell_type": "code",
      "source": [
        "#Creating the Array:\n",
        "import numpy as np\n",
        "\n",
        "# Creating a NumPy array of strings\n",
        "array = np.array(['python', 'numpy', 'pandas'])\n",
        "\n",
        "print(\"Original Array:\")\n",
        "print(array)\n"
      ],
      "metadata": {
        "colab": {
          "base_uri": "https://localhost:8080/"
        },
        "id": "EC1vTrbE0SL8",
        "outputId": "317d91a5-275e-4255-c40a-507912cd97dc"
      },
      "execution_count": 7,
      "outputs": [
        {
          "output_type": "stream",
          "name": "stdout",
          "text": [
            "Original Array:\n",
            "['python' 'numpy' 'pandas']\n"
          ]
        }
      ]
    },
    {
      "cell_type": "code",
      "source": [
        "#Uppercase Transformation:\n",
        "\n",
        "array_upper = np.char.upper(array)\n",
        "\n",
        "print(\"\\nUppercase Array:\")\n",
        "print(array_upper)\n"
      ],
      "metadata": {
        "colab": {
          "base_uri": "https://localhost:8080/"
        },
        "id": "muFT4pvj1EpY",
        "outputId": "450db103-4326-40b2-cac8-f48ec323e5c3"
      },
      "execution_count": 8,
      "outputs": [
        {
          "output_type": "stream",
          "name": "stdout",
          "text": [
            "\n",
            "Uppercase Array:\n",
            "['PYTHON' 'NUMPY' 'PANDAS']\n"
          ]
        }
      ]
    },
    {
      "cell_type": "code",
      "source": [
        "#Lowercase Transformation:\n",
        "\n",
        "# Lowercase transformation\n",
        "array_lower = np.char.lower(array)\n",
        "\n",
        "print(\"\\nLowercase Array:\")\n",
        "print(array_lower)\n"
      ],
      "metadata": {
        "colab": {
          "base_uri": "https://localhost:8080/"
        },
        "id": "_W8-VmIO1SP9",
        "outputId": "d6703cd6-a338-407f-98a1-5e5542a52bc1"
      },
      "execution_count": 9,
      "outputs": [
        {
          "output_type": "stream",
          "name": "stdout",
          "text": [
            "\n",
            "Lowercase Array:\n",
            "['python' 'numpy' 'pandas']\n"
          ]
        }
      ]
    },
    {
      "cell_type": "code",
      "source": [
        "#itle Case Transformation:\n",
        "\n",
        "# Title case transformation\n",
        "array_title = np.char.title(array)\n",
        "\n",
        "print(\"\\nTitle Case Array:\")\n",
        "print(array_title)\n"
      ],
      "metadata": {
        "colab": {
          "base_uri": "https://localhost:8080/"
        },
        "id": "O87hrW9f1Zqg",
        "outputId": "9feecdfd-3fd5-499f-ff47-d6a9b9d20044"
      },
      "execution_count": 10,
      "outputs": [
        {
          "output_type": "stream",
          "name": "stdout",
          "text": [
            "\n",
            "Title Case Array:\n",
            "['Python' 'Numpy' 'Pandas']\n"
          ]
        }
      ]
    },
    {
      "cell_type": "code",
      "source": [
        "import numpy as np\n",
        "\n",
        "# Creating a NumPy array of strings\n",
        "array = np.array(['python', 'numpy', 'pandas'])\n",
        "\n",
        "print(\"Original Array:\")\n",
        "print(array)\n",
        "\n",
        "# Uppercase transformation\n",
        "array_upper = np.char.upper(array)\n",
        "print(\"\\nUppercase Array:\")\n",
        "print(array_upper)\n",
        "\n",
        "# Lowercase transformation\n",
        "array_lower = np.char.lower(array)\n",
        "print(\"\\nLowercase Array:\")\n",
        "print(array_lower)\n",
        "\n",
        "# Title case transformation\n",
        "array_title = np.char.title(array)\n",
        "print(\"\\nTitle Case Array:\")\n",
        "print(array_title)\n"
      ],
      "metadata": {
        "colab": {
          "base_uri": "https://localhost:8080/"
        },
        "id": "0OPHEFSM1gY_",
        "outputId": "e142dfe0-6886-4686-a09b-457f1cc97e42"
      },
      "execution_count": 11,
      "outputs": [
        {
          "output_type": "stream",
          "name": "stdout",
          "text": [
            "Original Array:\n",
            "['python' 'numpy' 'pandas']\n",
            "\n",
            "Uppercase Array:\n",
            "['PYTHON' 'NUMPY' 'PANDAS']\n",
            "\n",
            "Lowercase Array:\n",
            "['python' 'numpy' 'pandas']\n",
            "\n",
            "Title Case Array:\n",
            "['Python' 'Numpy' 'Pandas']\n"
          ]
        }
      ]
    },
    {
      "cell_type": "markdown",
      "source": [
        "**6. Generate a NumPy array of words. Insert a space between each character of every word in the array.**\n",
        "\n",
        "**Ans.**\n",
        "\n"
      ],
      "metadata": {
        "id": "azCcEKv42OU9"
      }
    },
    {
      "cell_type": "code",
      "source": [
        "import numpy as np\n",
        "\n",
        "# Creating a NumPy array of words\n",
        "words_array = np.array(['hello', 'world', 'sanket'])\n",
        "\n",
        "print(\"Original Array:\")\n",
        "print(words_array)\n",
        "\n",
        "# Inserting a space between each character of every word\n",
        "spaced_words_array = np.char.join(' ', words_array)\n",
        "\n",
        "print(\"\\nArray with Spaces between Characters:\")\n",
        "print(spaced_words_array)\n"
      ],
      "metadata": {
        "colab": {
          "base_uri": "https://localhost:8080/"
        },
        "id": "eKDqQKN32LKR",
        "outputId": "1d94a011-b8c1-4851-9668-df632769bf61"
      },
      "execution_count": 13,
      "outputs": [
        {
          "output_type": "stream",
          "name": "stdout",
          "text": [
            "Original Array:\n",
            "['hello' 'world' 'sanket']\n",
            "\n",
            "Array with Spaces between Characters:\n",
            "['h e l l o' 'w o r l d' 's a n k e t']\n"
          ]
        }
      ]
    },
    {
      "cell_type": "markdown",
      "source": [
        "**7. Create two 2D NumPy arrays and perform element-wise addition, subtraction, multiplication, and division.**\n",
        "\n",
        "**Ans.**"
      ],
      "metadata": {
        "id": "jLw-a3fH3nJo"
      }
    },
    {
      "cell_type": "code",
      "source": [
        "import numpy as np\n",
        "\n",
        "# Creating two 2D arrays\n",
        "array1 = np.array([[1, 2, 3], [4, 5, 6]])\n",
        "array2 = np.array([[7, 8, 9], [10, 11, 12]])\n",
        "\n",
        "print(\"Array 1:\")\n",
        "print(array1)\n",
        "print(\"\\nArray 2:\")\n",
        "print(array2)\n",
        "\n",
        "# Element-wise addition\n",
        "addition_result = np.add(array1, array2)\n",
        "print(\"\\nElement-wise Addition Result:\")\n",
        "print(addition_result)\n",
        "\n",
        "# Element-wise subtraction\n",
        "subtraction_result = np.subtract(array1, array2)\n",
        "print(\"\\nElement-wise Subtraction Result:\")\n",
        "print(subtraction_result)\n",
        "\n",
        "# Element-wise multiplication\n",
        "multiplication_result = np.multiply(array1, array2)\n",
        "print(\"\\nElement-wise Multiplication Result:\")\n",
        "print(multiplication_result)\n",
        "\n",
        "# Element-wise division\n",
        "division_result = np.divide(array1, array2)\n",
        "print(\"\\nElement-wise Division Result:\")\n",
        "print(division_result)\n"
      ],
      "metadata": {
        "colab": {
          "base_uri": "https://localhost:8080/"
        },
        "id": "-feasPuT3c6F",
        "outputId": "50ab8c47-a509-48a5-e272-261fbc126930"
      },
      "execution_count": 14,
      "outputs": [
        {
          "output_type": "stream",
          "name": "stdout",
          "text": [
            "Array 1:\n",
            "[[1 2 3]\n",
            " [4 5 6]]\n",
            "\n",
            "Array 2:\n",
            "[[ 7  8  9]\n",
            " [10 11 12]]\n",
            "\n",
            "Element-wise Addition Result:\n",
            "[[ 8 10 12]\n",
            " [14 16 18]]\n",
            "\n",
            "Element-wise Subtraction Result:\n",
            "[[-6 -6 -6]\n",
            " [-6 -6 -6]]\n",
            "\n",
            "Element-wise Multiplication Result:\n",
            "[[ 7 16 27]\n",
            " [40 55 72]]\n",
            "\n",
            "Element-wise Division Result:\n",
            "[[0.14285714 0.25       0.33333333]\n",
            " [0.4        0.45454545 0.5       ]]\n"
          ]
        }
      ]
    },
    {
      "cell_type": "markdown",
      "source": [
        "**8.  Use NumPy to create a 5x5 identity matrix, then extract its diagonal elements.**\n",
        "\n",
        "**Ans.**\n"
      ],
      "metadata": {
        "id": "BFrgiROV4Pq4"
      }
    },
    {
      "cell_type": "code",
      "source": [
        "import numpy as np\n",
        "\n",
        "# Creating a 5x5 identity matrix\n",
        "identity_matrix = np.eye(5)\n",
        "\n",
        "print(\"5x5 Identity Matrix:\")\n",
        "print(identity_matrix)\n",
        "\n",
        "# Extracting the diagonal elements\n",
        "diagonal_elements = np.diag(identity_matrix)\n",
        "\n",
        "print(\"\\nDiagonal Elements:\")\n",
        "print(diagonal_elements)\n"
      ],
      "metadata": {
        "colab": {
          "base_uri": "https://localhost:8080/"
        },
        "id": "bI6dbA_Q4CbN",
        "outputId": "36bf922c-f938-4c43-d9fa-6b13a82db9af"
      },
      "execution_count": 15,
      "outputs": [
        {
          "output_type": "stream",
          "name": "stdout",
          "text": [
            "5x5 Identity Matrix:\n",
            "[[1. 0. 0. 0. 0.]\n",
            " [0. 1. 0. 0. 0.]\n",
            " [0. 0. 1. 0. 0.]\n",
            " [0. 0. 0. 1. 0.]\n",
            " [0. 0. 0. 0. 1.]]\n",
            "\n",
            "Diagonal Elements:\n",
            "[1. 1. 1. 1. 1.]\n"
          ]
        }
      ]
    },
    {
      "cell_type": "markdown",
      "source": [
        "**9. Generate a NumPy array of 100 random integers between 0 and 1000. Find and display all prime numbers in\n",
        "this array.**\n",
        "\n",
        "**Ans.**"
      ],
      "metadata": {
        "id": "9To5m8Hl4iEy"
      }
    },
    {
      "cell_type": "code",
      "source": [
        "import numpy as np\n",
        "\n",
        "# Generating an array of 100 random integers between 0 and 1000\n",
        "random_array = np.random.randint(0, 1001, size=100)\n",
        "\n",
        "print(\"Random Array:\")\n",
        "print(random_array)\n",
        "\n",
        "# Function to check if a number is prime\n",
        "def is_prime(n):\n",
        "    if n <= 1:\n",
        "        return False\n",
        "    for i in range(2, int(np.sqrt(n)) + 1):\n",
        "        if n % i == 0:\n",
        "            return False\n",
        "    return True\n",
        "\n",
        "# Finding prime numbers in the array\n",
        "prime_numbers = [num for num in random_array if is_prime(num)]\n",
        "\n",
        "print(\"\\nPrime Numbers in the Array:\")\n",
        "print(prime_numbers)\n"
      ],
      "metadata": {
        "colab": {
          "base_uri": "https://localhost:8080/"
        },
        "id": "oNWEfocX4g6W",
        "outputId": "9125619d-8289-41c3-953a-e27bbd6a1ba0"
      },
      "execution_count": 16,
      "outputs": [
        {
          "output_type": "stream",
          "name": "stdout",
          "text": [
            "Random Array:\n",
            "[711 488 335 964 702 353 439 715 426 672 208 475 242 635 447 474 444 409\n",
            " 131 880 699 969 862 588 466  31 754 759 953  48 101 644 122 200 269 421\n",
            " 460 216  65 330 670 681 974 853 731 102 618 572 160 359 427 950 291 648\n",
            " 481 126 600 171 742 896 771 350 443 210 203  44 145 224 992 603 654 707\n",
            " 638 222 136  71 490 844 801 170 998 948 330 833 626  17 523  90 906 870\n",
            " 488 141 180 109 538 293 499 532 829 249]\n",
            "\n",
            "Prime Numbers in the Array:\n",
            "[353, 439, 409, 131, 31, 953, 101, 269, 421, 853, 359, 443, 71, 17, 523, 109, 293, 499, 829]\n"
          ]
        }
      ]
    },
    {
      "cell_type": "markdown",
      "source": [
        "**10. Create a NumPy array representing daily temperatures for a month. Calculate and display the weekly\n",
        "averages.**\n",
        "\n",
        "**Ans.**\n",
        "\n"
      ],
      "metadata": {
        "id": "B_BajO_f5uyO"
      }
    },
    {
      "cell_type": "code",
      "source": [
        "import numpy as np\n",
        "\n",
        "# Generating an array representing daily temperatures for 30 days\n",
        "daily_temperatures = np.random.randint(20, 35, size=30)  # Random temperatures between 20 and 35 degrees Celsius\n",
        "\n",
        "print(\"Daily Temperatures for a Month:\")\n",
        "print(daily_temperatures)\n",
        "\n",
        "# Splitting the array into weeks (4 weeks + 2 extra days)\n",
        "weeks = np.split(daily_temperatures[:28], 4)  # First 28 days for 4 weeks\n",
        "extra_days = daily_temperatures[28:]  # Remaining 2 days\n",
        "\n",
        "# Calculating the weekly averages\n",
        "weekly_averages = [np.mean(week) for week in weeks]\n",
        "\n",
        "# If there are extra days, calculate their average\n",
        "if extra_days.size > 0:\n",
        "    weekly_averages.append(np.mean(extra_days))\n",
        "\n",
        "print(\"\\nWeekly Averages:\")\n",
        "print(weekly_averages)\n"
      ],
      "metadata": {
        "colab": {
          "base_uri": "https://localhost:8080/"
        },
        "id": "2bxC8EKL5I6d",
        "outputId": "f1505a35-106d-473c-8265-c7120f940560"
      },
      "execution_count": 28,
      "outputs": [
        {
          "output_type": "stream",
          "name": "stdout",
          "text": [
            "Daily Temperatures for a Month:\n",
            "[23 26 24 29 34 20 30 33 23 28 28 23 34 26 34 25 31 29 27 25 20 29 30 24\n",
            " 31 28 28 26 25 24]\n",
            "\n",
            "Weekly Averages:\n",
            "[26.571428571428573, 27.857142857142858, 27.285714285714285, 28.0, 24.5]\n"
          ]
        }
      ]
    },
    {
      "cell_type": "code",
      "source": [],
      "metadata": {
        "id": "z2-hilzl6WYI"
      },
      "execution_count": 24,
      "outputs": []
    },
    {
      "cell_type": "code",
      "source": [],
      "metadata": {
        "id": "T_DChH0H7_u7"
      },
      "execution_count": null,
      "outputs": []
    }
  ]
}